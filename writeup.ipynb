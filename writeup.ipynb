{
 "cells": [
  {
   "cell_type": "markdown",
   "metadata": {},
   "source": [
    "\n",
    "# What it does\n",
    "\n",
    "Our solution is a machine learning solution visualized in a Streamlit application. Our application allows a user to select a state and a county (currently there is data for five states). The user can also input a latitude and longitude to compute the visibility score for. A marker will appear on the inputted coordinates, and the visibility score will be calculated. The calculation of the K-D tree algorithm to select points/routes within a certain radius, and the associated trip volumes are then weighted using kernel density estimation to obtain the final score.\n",
    "\n",
    "# How we built it\n",
    "\n",
    "Our tech stack uses PyDeck for geospatial visualizion, since it has superior rendering performance compared to other libraries such as plotly. We integrated PyDeck with Streamlit to incorporate user settings and interactivity. We used sklearn for the machine learning algorithms.\n",
    "\n",
    "\n",
    "# Challenges we ran into\n",
    "The main challenge was time constraints. There were many other items we wanted to explore and implement, such as including a better indicator of direction in the visibility calculation.\n",
    "\n",
    "# Accomplishments that we're proud of\n",
    "We are proud of putting together an application that can provide insight into visibility scoring using data visualization.\n",
    "\n",
    "# What we learned\n",
    "We learned about Open Streetmap data, Streamlit, and PyDeck; all of which were new to us."
   ]
  }
 ],
 "metadata": {
  "language_info": {
   "name": "python"
  }
 },
 "nbformat": 4,
 "nbformat_minor": 2
}
