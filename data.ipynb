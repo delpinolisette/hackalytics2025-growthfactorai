{
 "cells": [
  {
   "cell_type": "code",
   "execution_count": 9,
   "metadata": {},
   "outputs": [],
   "source": [
    "import pandas as pd\n",
    "import matplotlib.pyplot as plt\n",
    "import seaborn as sns\n",
    "import numpy as np"
   ]
  },
  {
   "cell_type": "code",
   "execution_count": 10,
   "metadata": {},
   "outputs": [],
   "source": [
    "traffic_data = pd.read_csv('traffic_data_sample.csv/traffic_data_sample.csv')"
   ]
  },
  {
   "cell_type": "code",
   "execution_count": 11,
   "metadata": {},
   "outputs": [
    {
     "name": "stdout",
     "output_type": "stream",
     "text": [
      "<class 'pandas.core.frame.DataFrame'>\n",
      "RangeIndex: 2825075 entries, 0 to 2825074\n",
      "Data columns (total 24 columns):\n",
      " #   Column                     Dtype  \n",
      "---  ------                     -----  \n",
      " 0   id                         int64  \n",
      " 1   mode                       object \n",
      " 2   country_code               object \n",
      " 3   state_code                 object \n",
      " 4   county_fips                int64  \n",
      " 5   segment_name               object \n",
      " 6   osm_id                     int64  \n",
      " 7   highway                    object \n",
      " 8   segment_length_m           float64\n",
      " 9   segment_id                 int64  \n",
      " 10  year                       int64  \n",
      " 11  month                      int64  \n",
      " 12  match_dir                  int64  \n",
      " 13  day_type                   int64  \n",
      " 14  day_part                   int64  \n",
      " 15  trips_volume               int64  \n",
      " 16  trips_sample_count         int64  \n",
      " 17  vmt                        int64  \n",
      " 18  geom                       object \n",
      " 19  created_at                 object \n",
      " 20  updated_at                 object \n",
      " 21  trips_volume_masked        int64  \n",
      " 22  trips_sample_count_masked  int64  \n",
      " 23  geometry                   object \n",
      "dtypes: float64(1), int64(14), object(9)\n",
      "memory usage: 517.3+ MB\n"
     ]
    }
   ],
   "source": [
    "traffic_data.info()"
   ]
  },
  {
   "cell_type": "code",
   "execution_count": 15,
   "metadata": {},
   "outputs": [],
   "source": [
    "traffic_data.describe().to_csv(\"stats_on_overall_table.csv\")"
   ]
  },
  {
   "cell_type": "markdown",
   "metadata": {},
   "source": [
    "aim of problem:\n",
    "\n",
    "given a storefront, return a function that"
   ]
  },
  {
   "cell_type": "code",
   "execution_count": null,
   "metadata": {},
   "outputs": [],
   "source": [
    "def regression_tester():\n",
    "    "
   ]
  }
 ],
 "metadata": {
  "kernelspec": {
   "display_name": "Python 3",
   "language": "python",
   "name": "python3"
  },
  "language_info": {
   "codemirror_mode": {
    "name": "ipython",
    "version": 3
   },
   "file_extension": ".py",
   "mimetype": "text/x-python",
   "name": "python",
   "nbconvert_exporter": "python",
   "pygments_lexer": "ipython3",
   "version": "3.12.1"
  }
 },
 "nbformat": 4,
 "nbformat_minor": 2
}
